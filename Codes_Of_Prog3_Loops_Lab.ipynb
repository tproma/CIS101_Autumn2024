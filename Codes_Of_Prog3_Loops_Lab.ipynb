{
  "cells": [
    {
      "cell_type": "markdown",
      "metadata": {
        "id": "I3jTU0TffEmz"
      },
      "source": [
        "### **Easy**\n"
      ]
    },
    {
      "cell_type": "markdown",
      "metadata": {
        "id": "K1NOy2u5fEm1"
      },
      "source": [
        "#### **Problem 01:**\n",
        "\n",
        "Write a function that will keep taking input from the user until the user '.' (period) is pressed.\n",
        "\n",
        "**Sample Input:**\n",
        "\n",
        "```bash\n",
        "Give any input: 1\n",
        "Give any input: abc\n",
        "Give any input: Hello World!\n",
        "Give any input: .\n",
        "```\n"
      ]
    },
    {
      "cell_type": "code",
      "execution_count": null,
      "metadata": {
        "id": "oBppE5sVfEm1",
        "colab": {
          "base_uri": "https://localhost:8080/"
        },
        "outputId": "0dae4912-a8dd-4eea-8262-664067d17884"
      },
      "outputs": [
        {
          "name": "stdout",
          "output_type": "stream",
          "text": [
            "Give any input: 1\n",
            "Give any input: kjg\n",
            "Give any input: .\n"
          ]
        }
      ],
      "source": [
        "# Write your code here\n",
        "while True:\n",
        "  char  = input(\"Give any input: \")\n",
        "  if char == \".\":\n",
        "    break\n"
      ]
    },
    {
      "cell_type": "markdown",
      "metadata": {
        "id": "nK_-qkuvfEm2"
      },
      "source": [
        "#### **Problem 02:**\n",
        "\n",
        "Write a python program that will print the following series in the given format.\n",
        "$$42, 41, 40, 39, ... , 17$$\n",
        "\n",
        "**Sample Output:**\n",
        "\n",
        "```bash\n",
        "42, 41, 40, 39, 38, 37, 36, 35, 34, 33, 32, 31, 30, 29, 28, 27, 26, 25, 24, 23, 22, 21, 20, 19, 18, and 17\n",
        "```\n"
      ]
    },
    {
      "cell_type": "code",
      "execution_count": null,
      "metadata": {
        "id": "rdFWN4IpfEm2",
        "colab": {
          "base_uri": "https://localhost:8080/"
        },
        "outputId": "065720a8-a506-4a7d-fa44-4f021d2b308f"
      },
      "outputs": [
        {
          "output_type": "stream",
          "name": "stdout",
          "text": [
            "42,41,40,39,38,37,36,35,34,33,32,31,30,29,28,27,26,25,24,23,22,21,20,19,18, and 17\n"
          ]
        }
      ],
      "source": [
        "# Write your code here\n",
        "n = 42\n",
        "while n >=17:\n",
        "  if n > 17:\n",
        "    print(n, end =  \",\")\n",
        "  else:\n",
        "    print( \" and\", n)\n",
        "  n -=1"
      ]
    },
    {
      "cell_type": "code",
      "source": [
        "\n",
        "# Start value\n",
        "start = 42\n",
        "\n",
        "# End value\n",
        "end = 17\n",
        "\n",
        "# Loop through the range in reverse order\n",
        "for number in range(start, end - 1, -1):  # Decrementing by 1\n",
        "    # Print the numbers separated by commas\n",
        "    if number > end:\n",
        "        print(number, end=\",\")\n",
        "    else:\n",
        "        print(number)  # Print the last number without a trailing comma"
      ],
      "metadata": {
        "colab": {
          "base_uri": "https://localhost:8080/"
        },
        "id": "27PgfM8oul81",
        "outputId": "1bdf1e4f-1684-484f-ac3a-833a96f91c38"
      },
      "execution_count": null,
      "outputs": [
        {
          "output_type": "stream",
          "name": "stdout",
          "text": [
            "42,41,40,39,38,37,36,35,34,33,32,31,30,29,28,27,26,25,24,23,22,21,20,19,18,17\n"
          ]
        }
      ]
    },
    {
      "cell_type": "markdown",
      "metadata": {
        "id": "k_72fAj2fEm2"
      },
      "source": [
        "#### **Problem 03:**\n",
        "\n",
        "Write a python program that will calculate the sum of the following series, and print the result in the given format.\n",
        "\n",
        "$$5, 10, 15, 20, ... , 50$$\n",
        "\n",
        "**Sample Output:**\n",
        "\n",
        "```bash\n",
        "5 + 10 + 15 + 20 + 25 + 30 + 35 + 40 + 45 + 50 = 275\n",
        "```\n"
      ]
    },
    {
      "cell_type": "code",
      "execution_count": null,
      "metadata": {
        "id": "7IFT3GjRfEm3",
        "colab": {
          "base_uri": "https://localhost:8080/"
        },
        "outputId": "80b74a53-ce75-4b6f-b797-e83ec7ef6d16"
      },
      "outputs": [
        {
          "output_type": "stream",
          "name": "stdout",
          "text": [
            "5+10+15+20+25+30+35+40+45+50+= 275\n"
          ]
        }
      ],
      "source": [
        "# Write your code here\n",
        "n = 5\n",
        "sum = 0\n",
        "while n<= 50:\n",
        "  print(n, end = \"+\")\n",
        "\n",
        "  sum += n\n",
        "  n +=5\n",
        "\n",
        "\n",
        "print(\"=\", sum)"
      ]
    },
    {
      "cell_type": "code",
      "source": [
        "\n",
        "# Initialize the sum variable\n",
        "total_sum = 0\n",
        "\n",
        "# Loop through the series from 5 to 50 with a step of 5\n",
        "for number in range(5, 51, 5):\n",
        "    total_sum += number  # Add each number to the sum\n",
        "\n",
        "# Print the result\n",
        "print(f\"The sum of the series is: {total_sum}\")"
      ],
      "metadata": {
        "id": "wGlzZEErvKTn",
        "outputId": "ffc5cf01-d472-4a60-f6a3-ea99a27de829",
        "colab": {
          "base_uri": "https://localhost:8080/"
        }
      },
      "execution_count": null,
      "outputs": [
        {
          "output_type": "stream",
          "name": "stdout",
          "text": [
            "The sum of the series is: 275\n"
          ]
        }
      ]
    },
    {
      "cell_type": "markdown",
      "metadata": {
        "id": "R-DniEFOfEm3"
      },
      "source": [
        "#### **Problem 04:**\n",
        "\n",
        "Write a python program that will calculate the factorial of a given number.\n",
        "\n",
        "**Sample Input:**\n",
        "\n",
        "```bash\n",
        "Enter a number: 5\n",
        "```\n",
        "\n",
        "**Sample Output:**\n",
        "\n",
        "```bash\n",
        "Factorial of 5 is 120\n",
        "```\n"
      ]
    },
    {
      "cell_type": "code",
      "execution_count": null,
      "metadata": {
        "id": "xLb0ZzlTfEm3",
        "colab": {
          "base_uri": "https://localhost:8080/"
        },
        "outputId": "39b481d6-9d1e-4f57-df65-90e0afc25bbd"
      },
      "outputs": [
        {
          "output_type": "stream",
          "name": "stdout",
          "text": [
            "1\n",
            "2\n",
            "3\n",
            "4\n",
            "5\n",
            "Factorial of 5 is  120\n"
          ]
        }
      ],
      "source": [
        "# Write your code here\n",
        "n = 1\n",
        "product = 1\n",
        "while n<=5:\n",
        "  print(n)\n",
        "  product = product * n\n",
        "  n +=1\n",
        "\n",
        "\n",
        "print(\"Factorial of 5 is \", product)"
      ]
    },
    {
      "cell_type": "code",
      "source": [
        "\n",
        "\n",
        "number = int(input(\"Enter a number to calculate its factorial: \"))\n",
        "\n",
        "factorial = 1\n",
        "\n",
        "\n",
        "for i in range(1, number + 1):\n",
        "    factorial *= i\n",
        "\n",
        "print(f\"The factorial of {number} is: {factorial}\")"
      ],
      "metadata": {
        "colab": {
          "base_uri": "https://localhost:8080/"
        },
        "id": "3Y7bqsidhCOH",
        "outputId": "a85d57e3-d33b-4085-f12f-eba9064a540d"
      },
      "execution_count": null,
      "outputs": [
        {
          "output_type": "stream",
          "name": "stdout",
          "text": [
            "Enter a number to calculate its factorial: 4\n",
            "The factorial of 4 is: 24\n"
          ]
        }
      ]
    },
    {
      "cell_type": "markdown",
      "metadata": {
        "id": "s9vi-w9GfEm3"
      },
      "source": [
        "### **Moderate**\n"
      ]
    },
    {
      "cell_type": "markdown",
      "metadata": {
        "id": "k0kkdrAZfEm3"
      },
      "source": [
        "#### **Problem 01:**\n",
        "\n",
        "Write a python program to display the multiplication table of a given number.\n",
        "\n",
        "**Sample Input:**\n",
        "\n",
        "```bash\n",
        "Number for multiplication table: 5\n",
        "How many multiples: 10\n",
        "```\n",
        "\n",
        "**Sample Output:**\n",
        "\n",
        "```bash\n",
        "Multiplication table of 5 upto 10 multiples:\n",
        "\n",
        "5 x 1 = 5\n",
        "5 x 2 = 10\n",
        "5 x 3 = 15\n",
        "5 x 4 = 20\n",
        "5 x 5 = 25\n",
        "5 x 6 = 30\n",
        "5 x 7 = 35\n",
        "5 x 8 = 40\n",
        "5 x 9 = 45\n",
        "5 x 10 = 50\n",
        "```\n"
      ]
    },
    {
      "cell_type": "code",
      "execution_count": null,
      "metadata": {
        "id": "ZwYF9l2ZfEm3",
        "colab": {
          "base_uri": "https://localhost:8080/"
        },
        "outputId": "b9f90418-ea26-4afb-d702-5bfccd98b54b"
      },
      "outputs": [
        {
          "output_type": "stream",
          "name": "stdout",
          "text": [
            "5\n",
            "5 x 1 = 5\n",
            "5 x 2 = 10\n",
            "5 x 3 = 15\n",
            "5 x 4 = 20\n",
            "5 x 5 = 25\n",
            "5 x 6 = 30\n",
            "5 x 7 = 35\n",
            "5 x 8 = 40\n",
            "5 x 9 = 45\n",
            "5 x 10 = 50\n"
          ]
        }
      ],
      "source": [
        "# Write your code here\n",
        "n = int(input())\n",
        "i = 1\n",
        "\n",
        "while i<=10:\n",
        "  print(f\"{n} x {i} = { n*i}\")\n",
        "  i+=1"
      ]
    },
    {
      "cell_type": "code",
      "source": [
        "\n",
        "\n",
        "number = int(input(\"Enter a number to display its multiplication table: \"))\n",
        "\n",
        "\n",
        "print(f\"Multiplication Table of {number}:\")\n",
        "for i in range(1, 11):\n",
        "    result = number * i\n",
        "    print(f\"{number} x {i} = {result}\")"
      ],
      "metadata": {
        "id": "TaVe9VpqhrUp"
      },
      "execution_count": null,
      "outputs": []
    },
    {
      "cell_type": "markdown",
      "metadata": {
        "id": "8llmbtHdfEm4"
      },
      "source": [
        "#### **Problem 02:**\n",
        "\n",
        "Take two integers as input from the user. Then print all the odd numbers between those two numbers.\n",
        "\n",
        "**Note:** You are not allowed to use $%$ operator.\n",
        "\n",
        "**Sample Input:**\n",
        "\n",
        "```bash\n",
        "Enter first number: 4\n",
        "Enter second number: 15\n",
        "```\n",
        "\n",
        "**Sample Output:**\n",
        "\n",
        "```bash\n",
        "Odd numbers between 5 and 15 are: 5, 7, 9, 11, and 13\n",
        "```\n"
      ]
    },
    {
      "cell_type": "code",
      "execution_count": null,
      "metadata": {
        "id": "yfS-vlQvfEm4",
        "colab": {
          "base_uri": "https://localhost:8080/"
        },
        "outputId": "889855c7-9965-4062-cedd-77b3845f32be"
      },
      "outputs": [
        {
          "output_type": "stream",
          "name": "stdout",
          "text": [
            "Enter first number:4\n",
            "Enter second number:15\n",
            "5,7,9,11,13,"
          ]
        }
      ],
      "source": [
        "# Write your code here\n",
        "a = int(input(\"Enter first number:\"))\n",
        "b = int(input(\"Enter second number:\"))\n",
        "\n",
        "n = a\n",
        "if n%2==0:\n",
        "    n+=1\n",
        "while n<b:\n",
        "  print(n, end = \",\")\n",
        "  n+=2"
      ]
    },
    {
      "cell_type": "code",
      "source": [
        "\n",
        "# Input from the user\n",
        "start = int(input(\"Enter the starting integer: \"))\n",
        "end = int(input(\"Enter the ending integer: \"))\n",
        "\n",
        "print(f\"Odd numbers between {start} and {end}:\")\n",
        "for number in range(start, end + 1):\n",
        "    if number % 2 != 0:\n",
        "        print(number, end=\" \")"
      ],
      "metadata": {
        "id": "ZXqcier2jEjk"
      },
      "execution_count": null,
      "outputs": []
    },
    {
      "cell_type": "markdown",
      "metadata": {
        "id": "17v8HN4jfEm4"
      },
      "source": [
        "#### **Problem 03:**\n",
        "\n",
        "Take two integers as input from the user. Then print all numbers between those two numbers which are divisible by 7.\n",
        "\n",
        "**Note:** You are not allowed to use $%$ operator.\n",
        "\n",
        "**Sample Input:**\n",
        "\n",
        "```bash\n",
        "Enter first number: 4\n",
        "Enter second number: 23\n",
        "```\n",
        "\n",
        "**Sample Output:**\n",
        "\n",
        "```bash\n",
        "Numbers between 4 and 23 which are divisible by 7 are: 7, 14, and 21\n",
        "```\n"
      ]
    },
    {
      "cell_type": "code",
      "source": [
        "\n",
        "\n",
        "start = int(input(\"Enter the starting integer: \"))\n",
        "end = int(input(\"Enter the ending integer: \"))\n",
        "\n",
        "\n",
        "print(f\"Numbers divisible by 7 between {start} and {end}:\")\n",
        "for number in range(start, end + 1):\n",
        "    if number % 7 == 0:\n",
        "        print(number, end=\" \")"
      ],
      "metadata": {
        "id": "5uRGq5p_jq9U"
      },
      "execution_count": null,
      "outputs": []
    },
    {
      "cell_type": "code",
      "execution_count": null,
      "metadata": {
        "id": "NBj1Om16fEm4",
        "colab": {
          "base_uri": "https://localhost:8080/"
        },
        "outputId": "5c35c803-9775-48c6-9622-d0df1eea03f3"
      },
      "outputs": [
        {
          "output_type": "stream",
          "name": "stdout",
          "text": [
            "Enter first number:4\n",
            "Enter second number:23\n",
            "7,14,21,"
          ]
        }
      ],
      "source": [
        "# Write your code here\n",
        "a = int(input(\"Enter first number:\"))\n",
        "b = int(input(\"Enter second number:\"))\n",
        "\n",
        "n = a\n",
        "while n<b:\n",
        "  if n%7==0:\n",
        "    print(n, end = \",\")\n",
        "\n",
        "  n+=1"
      ]
    },
    {
      "cell_type": "markdown",
      "metadata": {
        "id": "wZKeP79qfEm4"
      },
      "source": [
        "### **Advance**\n"
      ]
    },
    {
      "cell_type": "markdown",
      "metadata": {
        "id": "-pE-o7vbfEm4"
      },
      "source": [
        "#### **Problem 01:**\n",
        "\n",
        "Write a python find the sum of the following series and print the result in the given format.\n",
        "\n",
        "$$1,2,4,7,11, ..., 56$$\n",
        "\n",
        "**Sample Output:**\n",
        "\n",
        "```bash\n",
        "1 + 2 + 4 + 7 + 11 + 16 + 22 + 29 + 37 + 46 + 56 = 231\n",
        "```\n"
      ]
    },
    {
      "cell_type": "code",
      "execution_count": null,
      "metadata": {
        "id": "RKYmZltCfEm4"
      },
      "outputs": [],
      "source": [
        "# Write your code here\n"
      ]
    },
    {
      "cell_type": "markdown",
      "metadata": {
        "id": "iuBfnrsefEm4"
      },
      "source": [
        "#### **Problem 02:**\n",
        "\n",
        "Write a python program that will count the number of digits in a given integer (Note: Do not use string).\n",
        "\n",
        "**Sample Input:**\n",
        "\n",
        "```bash\n",
        "Enter a number: 345678912\n",
        "```\n",
        "\n",
        "**Sample Output:**\n",
        "\n",
        "```bash\n",
        "Number of digits: 9\n",
        "```\n"
      ]
    },
    {
      "cell_type": "code",
      "execution_count": null,
      "metadata": {
        "id": "jbYupUVTfEm4"
      },
      "outputs": [],
      "source": [
        "# Write your code here"
      ]
    }
  ],
  "metadata": {
    "kernelspec": {
      "display_name": "Python 3",
      "language": "python",
      "name": "python3"
    },
    "language_info": {
      "codemirror_mode": {
        "name": "ipython",
        "version": 3
      },
      "file_extension": ".py",
      "mimetype": "text/x-python",
      "name": "python",
      "nbconvert_exporter": "python",
      "pygments_lexer": "ipython3",
      "version": "3.10.12"
    },
    "colab": {
      "provenance": []
    }
  },
  "nbformat": 4,
  "nbformat_minor": 0
}
{
  "cells": [
    {
      "cell_type": "markdown",
      "metadata": {
        "id": "i4YW75uh2qoN"
      },
      "source": [
        "## **List**\n",
        "\n",
        "In this class, we will learn about the List.\n",
        "\n",
        "We will solve some problems to get a better understanding of these data list and it's built-in functions."
      ]
    },
    {
      "cell_type": "markdown",
      "metadata": {
        "id": "QMs3JCx42qoV"
      },
      "source": [
        "#### **Problem 01**\n",
        "Create the following list using the list constructor and store it in a variable named `my_list`:\n",
        "\n",
        "`[1, 2, 3, 4, 5, 6, 7, 8, 9, 10]`\n",
        "\n",
        "Then, print the list."
      ]
    },
    {
      "cell_type": "code",
      "execution_count": 1,
      "metadata": {
        "id": "MFuPWUVE2qoW",
        "colab": {
          "base_uri": "https://localhost:8080/"
        },
        "outputId": "1bff6e0c-65eb-4579-d115-48cc1947391c"
      },
      "outputs": [
        {
          "output_type": "stream",
          "name": "stdout",
          "text": [
            "[1, 2, 3, 4, 5, 6, 7, 8, 9, 10]\n"
          ]
        }
      ],
      "source": [
        "# Write your code here\n",
        "my_list = list(range(1, 11))\n",
        "print(my_list)\n"
      ]
    },
    {
      "cell_type": "markdown",
      "metadata": {
        "id": "gLNkabvf2qoX"
      },
      "source": [
        "#### **Problem 02**\n",
        "Create the following list using the list constructor and store it in a variable named `my_list`:\n",
        "\n",
        "`[1, 2, 3, 4, 5, 6, 7, 8, 9, 10]`\n",
        "\n",
        "Then, print how many elements are in the list."
      ]
    },
    {
      "cell_type": "code",
      "execution_count": 4,
      "metadata": {
        "id": "Hni5jC3X2qoY",
        "colab": {
          "base_uri": "https://localhost:8080/"
        },
        "outputId": "769fddd1-3d37-42ab-d243-88ec0654e870"
      },
      "outputs": [
        {
          "output_type": "stream",
          "name": "stdout",
          "text": [
            "[1, 2, 3, 4, 5, 6, 7, 8, 9, 10]\n",
            "Number of elements: 10\n"
          ]
        }
      ],
      "source": [
        "# Write your code here\n",
        "my_list = list(range(1, 11))\n",
        "print(my_list)\n",
        "print(\"Number of elements:\", len(my_list))"
      ]
    },
    {
      "cell_type": "markdown",
      "metadata": {
        "id": "gHhTyRx82qoY"
      },
      "source": [
        "#### **Problem 03**\n",
        "Create a list of following words and store it in a variable named `my_list`:\n",
        "\n",
        "`['apple', 'banana', 'orange', 'grape', 'mango']`\n",
        "\n",
        "Print the word that comes first in the dictionary and the word that comes last in the dictionary from the list. Store theses words in variables named `first_word` and `last_word` respectively. Then, print the first and last words."
      ]
    },
    {
      "cell_type": "code",
      "execution_count": 5,
      "metadata": {
        "id": "yKGtWnqq2qoZ",
        "colab": {
          "base_uri": "https://localhost:8080/"
        },
        "outputId": "a23ac090-a4aa-4df0-a0ab-5966bde2b7e5"
      },
      "outputs": [
        {
          "output_type": "stream",
          "name": "stdout",
          "text": [
            "First word in dictionary order: apple\n",
            "Last word in dictionary order: mango\n"
          ]
        }
      ],
      "source": [
        "# Write your code here\n",
        "my_list = ['apple', 'banana', 'orange', 'grape', 'mango']\n",
        "\n",
        "\n",
        "first_word = my_list[0]\n",
        "last_word = my_list[-1]\n",
        "\n",
        "print(\"First word in dictionary order:\", first_word)\n",
        "print(\"Last word in dictionary order:\", last_word)"
      ]
    },
    {
      "cell_type": "markdown",
      "metadata": {
        "id": "rXNjMLeN2qoa"
      },
      "source": [
        "#### **Problem 04**\n",
        "Consider the following list:\n",
        "\n",
        "`[1,3,5,7,9,11,13,15,17,19]`\n",
        "\n",
        "Insert the following numbers at the odd indices of the list:\n",
        "\n",
        "`[2,4,6,8,10,12,14,16,18,20]`\n",
        "\n",
        "Then, print the list."
      ]
    },
    {
      "cell_type": "code",
      "execution_count": 8,
      "metadata": {
        "id": "oQfyOIKQ2qoa",
        "colab": {
          "base_uri": "https://localhost:8080/"
        },
        "outputId": "3195a607-88a5-4b8e-f5b3-d73d85044893"
      },
      "outputs": [
        {
          "output_type": "stream",
          "name": "stdout",
          "text": [
            "[1, 2, 3, 4, 5, 6, 7, 8, 9, 10, 11, 12, 13, 14, 15, 16, 17, 18, 19, 20]\n"
          ]
        }
      ],
      "source": [
        "# Write your code here\n",
        "list_1 = [1,3,5,7,9,11,13,15,17,19]\n",
        "list_2 = [2,4,6,8,10,12,14,16,18,20]\n",
        "\n",
        "index = 1\n",
        "for i in list_2:\n",
        "  list_1.insert(index, i)\n",
        "  index+=2\n",
        "\n",
        "print(list_1)"
      ]
    },
    {
      "cell_type": "markdown",
      "metadata": {
        "id": "PGjgSvnB2qob"
      },
      "source": [
        "#### **Problem 05**\n",
        "Consider the following list:\n",
        "\n",
        "`[1,2,3,4,5,6,7,8,9,10]`\n",
        "\n",
        "Remove the elements at the odd indices of the list. Then, print the list."
      ]
    },
    {
      "cell_type": "code",
      "execution_count": 9,
      "metadata": {
        "id": "_cULCDSz2qob",
        "colab": {
          "base_uri": "https://localhost:8080/"
        },
        "outputId": "a5683d89-ffcc-4498-fdb3-e530b5b5b885"
      },
      "outputs": [
        {
          "output_type": "stream",
          "name": "stdout",
          "text": [
            "[1, 3, 5, 7, 9]\n"
          ]
        }
      ],
      "source": [
        "# Write your code here\n",
        "my_list = [1,2,3,4,5,6,7,8,9,10]\n",
        "\n",
        "my_list = my_list[::2]\n",
        "\n",
        "print(my_list)\n"
      ]
    },
    {
      "cell_type": "markdown",
      "metadata": {
        "id": "LZ5K6FZG2qoc"
      },
      "source": [
        "#### **Problem 06**\n",
        "Create a list of 5 cities taken from the user and store them in a variable named `cities`. Sort the list in alphabetical order and store it in a variable named `sorted_cities`. Then, print the sorted list."
      ]
    },
    {
      "cell_type": "code",
      "execution_count": 10,
      "metadata": {
        "id": "_ROLp0-j2qoc",
        "colab": {
          "base_uri": "https://localhost:8080/"
        },
        "outputId": "07067d88-b4ad-4a07-f596-89e1a08dead6"
      },
      "outputs": [
        {
          "output_type": "stream",
          "name": "stdout",
          "text": [
            "Enter city 1: paris\n",
            "Enter city 2: vienna\n",
            "Enter city 3: london\n",
            "Enter city 4: new york\n",
            "Enter city 5: montreal\n",
            "Sorted cities: ['london', 'montreal', 'new york', 'paris', 'vienna']\n"
          ]
        }
      ],
      "source": [
        "# Write your code here\n",
        "cities = []\n",
        "\n",
        "for i in range(5):\n",
        "    city = input(f\"Enter city {i+1}: \")\n",
        "    cities.append(city)\n",
        "\n",
        "sorted_cities = sorted(cities)\n",
        "\n",
        "\n",
        "print(\"Sorted cities:\", sorted_cities)"
      ]
    },
    {
      "cell_type": "markdown",
      "metadata": {
        "id": "-ewPeqhu2qoc"
      },
      "source": [
        "#### **Problem 07**\n",
        "Create a list of 5 numbers taken from the user and store it in a variable named `numbers`.\n",
        "\n",
        "Create another list of 5 cities taken from the user and store it in a variable named `cities`.\n",
        "\n",
        "Then, print the list of numbers and the tuple of cities."
      ]
    },
    {
      "cell_type": "code",
      "execution_count": 13,
      "metadata": {
        "id": "0i59KR8j2qod",
        "colab": {
          "base_uri": "https://localhost:8080/"
        },
        "outputId": "f59ab355-5c51-4edc-a1be-1604798c40a6"
      },
      "outputs": [
        {
          "output_type": "stream",
          "name": "stdout",
          "text": [
            "Enter number 1: 2\n",
            "Enter number 2: 3\n",
            "Enter number 3: 6\n",
            "Enter number 4: 9\n",
            "Enter number 5: 5\n",
            "Enter city 1: Paris\n",
            "Enter city 2: London\n",
            "Enter city 3: Tokyo\n",
            "Enter city 4: La\n",
            "Enter city 5: vegas\n",
            "List of numbers: [2, 3, 6, 9, 5]\n",
            "Tuple of cities: ('Paris', 'London', 'Tokyo', 'La', 'vegas')\n"
          ]
        }
      ],
      "source": [
        "# Write your code here\n",
        "numbers = []\n",
        "cities = []\n",
        "\n",
        "for i in range(5):\n",
        "    number = int(input(f\"Enter number {i+1}: \"))\n",
        "    numbers.append(number)\n",
        "\n",
        "for i in range(5):\n",
        "    city = input(f\"Enter city {i+1}: \")\n",
        "    cities.append(city)\n",
        "\n",
        "cities_tuple = tuple(cities)\n",
        "\n",
        "print(\"List of numbers:\", numbers)\n",
        "print(\"Tuple of cities:\", cities_tuple)"
      ]
    }
  ],
  "metadata": {
    "kernelspec": {
      "display_name": "Python 3",
      "language": "python",
      "name": "python3"
    },
    "language_info": {
      "codemirror_mode": {
        "name": "ipython",
        "version": 3
      },
      "file_extension": ".py",
      "mimetype": "text/x-python",
      "name": "python",
      "nbconvert_exporter": "python",
      "pygments_lexer": "ipython3",
      "version": "3.10.6 (tags/v3.10.6:9c7b4bd, Aug  1 2022, 21:53:49) [MSC v.1932 64 bit (AMD64)]"
    },
    "orig_nbformat": 4,
    "vscode": {
      "interpreter": {
        "hash": "b148fc9bfa8b60132af830e32e1690e4e023b803e92912df15b823b90141dda6"
      }
    },
    "colab": {
      "provenance": []
    }
  },
  "nbformat": 4,
  "nbformat_minor": 0
}
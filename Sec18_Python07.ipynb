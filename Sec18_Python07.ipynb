{
  "nbformat": 4,
  "nbformat_minor": 0,
  "metadata": {
    "colab": {
      "provenance": [],
      "include_colab_link": true
    },
    "kernelspec": {
      "name": "python3",
      "display_name": "Python 3"
    },
    "language_info": {
      "name": "python"
    }
  },
  "cells": [
    {
      "cell_type": "markdown",
      "metadata": {
        "id": "view-in-github",
        "colab_type": "text"
      },
      "source": [
        "<a href=\"https://colab.research.google.com/github/tproma/CIS101_Autumn2024/blob/main/Sec18_Python07.ipynb\" target=\"_parent\"><img src=\"https://colab.research.google.com/assets/colab-badge.svg\" alt=\"Open In Colab\"/></a>"
      ]
    },
    {
      "cell_type": "code",
      "source": [
        "\n",
        "county = ['b', 'i', 'p', 'j']\n",
        "county.append('china')\n",
        "county.insert(2,'nepal')\n",
        "county.insert(-2,'bhutan')\n",
        "print(county)"
      ],
      "metadata": {
        "colab": {
          "base_uri": "https://localhost:8080/"
        },
        "id": "yKPI5I6xUnQd",
        "outputId": "f957a673-3742-46c3-aff2-cc3ef1a2c3e4"
      },
      "execution_count": null,
      "outputs": [
        {
          "output_type": "stream",
          "name": "stdout",
          "text": [
            "['b', 'i', 'nepal', 'p', 'bhutan', 'j', 'china']\n"
          ]
        }
      ]
    },
    {
      "cell_type": "markdown",
      "source": [
        "# List"
      ],
      "metadata": {
        "id": "TxfH2BRb2xVq"
      }
    },
    {
      "cell_type": "code",
      "execution_count": null,
      "metadata": {
        "id": "FsoFnryDzfbk"
      },
      "outputs": [],
      "source": [
        "A = [1,2,3,4]\n",
        "A"
      ]
    },
    {
      "cell_type": "code",
      "source": [
        "B = [\"apple\", \" banana\"]\n",
        "B"
      ],
      "metadata": {
        "colab": {
          "base_uri": "https://localhost:8080/"
        },
        "id": "x5dHLMiwzv_n",
        "outputId": "6084809c-54c9-4a09-b536-86b6fdeedaec"
      },
      "execution_count": null,
      "outputs": [
        {
          "output_type": "execute_result",
          "data": {
            "text/plain": [
              "['apple', ' banana']"
            ]
          },
          "metadata": {},
          "execution_count": 2
        }
      ]
    },
    {
      "cell_type": "code",
      "source": [
        "listOfDiff = ['Bangladesh', 170, 'India', 'Pakistan', 20.75]"
      ],
      "metadata": {
        "id": "m8wax5mdz31t"
      },
      "execution_count": null,
      "outputs": []
    },
    {
      "cell_type": "code",
      "source": [
        "listOfDiff[2]"
      ],
      "metadata": {
        "colab": {
          "base_uri": "https://localhost:8080/",
          "height": 35
        },
        "id": "RIsp4uCvz8Nm",
        "outputId": "6bcfa3a6-5df2-446b-9436-e4a59da9d679"
      },
      "execution_count": null,
      "outputs": [
        {
          "output_type": "execute_result",
          "data": {
            "text/plain": [
              "'India'"
            ],
            "application/vnd.google.colaboratory.intrinsic+json": {
              "type": "string"
            }
          },
          "metadata": {},
          "execution_count": 4
        }
      ]
    },
    {
      "cell_type": "code",
      "source": [
        "list(range(0, 10, 2))"
      ],
      "metadata": {
        "colab": {
          "base_uri": "https://localhost:8080/"
        },
        "id": "JDt6W_se0ald",
        "outputId": "13009988-ab99-4e42-fdbf-e31727488386"
      },
      "execution_count": null,
      "outputs": [
        {
          "output_type": "execute_result",
          "data": {
            "text/plain": [
              "[0, 2, 4, 6, 8]"
            ]
          },
          "metadata": {},
          "execution_count": 5
        }
      ]
    },
    {
      "cell_type": "markdown",
      "source": [
        "## Append"
      ],
      "metadata": {
        "id": "Qf9wekby200P"
      }
    },
    {
      "cell_type": "code",
      "source": [
        "listOfDiff.append(\"gjhsafdhj\")"
      ],
      "metadata": {
        "id": "7hwEJm7j0jkN"
      },
      "execution_count": null,
      "outputs": []
    },
    {
      "cell_type": "code",
      "source": [
        "listOfDiff"
      ],
      "metadata": {
        "colab": {
          "base_uri": "https://localhost:8080/"
        },
        "id": "80_jXEur0uvU",
        "outputId": "2022cfd7-eb24-4e9f-f250-e4446800abbe"
      },
      "execution_count": null,
      "outputs": [
        {
          "output_type": "execute_result",
          "data": {
            "text/plain": [
              "['Bangladesh', 170, 'India', 'Pakistan', 20.75, 756565675, 'gjhsafdhj']"
            ]
          },
          "metadata": {},
          "execution_count": 9
        }
      ]
    },
    {
      "cell_type": "markdown",
      "source": [
        "## Insert"
      ],
      "metadata": {
        "id": "rFAGYEwk22rX"
      }
    },
    {
      "cell_type": "code",
      "source": [
        "listOfDiff.insert(1,\"Chaina\")"
      ],
      "metadata": {
        "id": "BigcfjN70wn8"
      },
      "execution_count": null,
      "outputs": []
    },
    {
      "cell_type": "code",
      "source": [
        "listOfDiff"
      ],
      "metadata": {
        "colab": {
          "base_uri": "https://localhost:8080/"
        },
        "id": "nVu17CrH1GGV",
        "outputId": "ca61c996-2c89-4185-e2d5-09bd59b17405"
      },
      "execution_count": null,
      "outputs": [
        {
          "output_type": "execute_result",
          "data": {
            "text/plain": [
              "['Bangladesh',\n",
              " 'Chaina',\n",
              " 170,\n",
              " 'India',\n",
              " 'Pakistan',\n",
              " 20.75,\n",
              " 756565675,\n",
              " 'gjhsafdhj']"
            ]
          },
          "metadata": {},
          "execution_count": 11
        }
      ]
    },
    {
      "cell_type": "markdown",
      "source": [
        "## Extend"
      ],
      "metadata": {
        "id": "JW9yF2lB3Rvp"
      }
    },
    {
      "cell_type": "code",
      "source": [
        "listOfDiff.extend([777, 420, 840])"
      ],
      "metadata": {
        "id": "MhRwRptL1HcU"
      },
      "execution_count": null,
      "outputs": []
    },
    {
      "cell_type": "code",
      "source": [
        "listOfDiff\n"
      ],
      "metadata": {
        "colab": {
          "base_uri": "https://localhost:8080/"
        },
        "id": "wvxv33q61bF9",
        "outputId": "176b6dd4-e0ca-4d51-84f0-706bd232e943"
      },
      "execution_count": null,
      "outputs": [
        {
          "output_type": "execute_result",
          "data": {
            "text/plain": [
              "['Bangladesh',\n",
              " 'Chaina',\n",
              " 170,\n",
              " 'India',\n",
              " 'Pakistan',\n",
              " 20.75,\n",
              " 756565675,\n",
              " 'gjhsafdhj',\n",
              " 777,\n",
              " 420,\n",
              " 840]"
            ]
          },
          "metadata": {},
          "execution_count": 13
        }
      ]
    },
    {
      "cell_type": "markdown",
      "source": [
        "### Mixed List"
      ],
      "metadata": {
        "id": "jhLo4ZPz3VR-"
      }
    },
    {
      "cell_type": "code",
      "source": [
        "numbers = list(range(11, 20))\n",
        "fruits = ['apple', 'banana', 'cherry', 'date', 'eggfruit']\n",
        "\n",
        "mixedList = numbers + fruits\n",
        "print('mixed list: ', mixedList)"
      ],
      "metadata": {
        "colab": {
          "base_uri": "https://localhost:8080/"
        },
        "id": "_8Bid87l1cE1",
        "outputId": "f61d6435-b331-4375-c69c-b109eb7a2961"
      },
      "execution_count": null,
      "outputs": [
        {
          "output_type": "stream",
          "name": "stdout",
          "text": [
            "mixed list:  [11, 12, 13, 14, 15, 16, 17, 18, 19, 'apple', 'banana', 'cherry', 'date', 'eggfruit']\n"
          ]
        }
      ]
    },
    {
      "cell_type": "markdown",
      "source": [
        "### Pop"
      ],
      "metadata": {
        "id": "QioWWJ9A3YMJ"
      }
    },
    {
      "cell_type": "code",
      "source": [
        "mixedList.pop()"
      ],
      "metadata": {
        "colab": {
          "base_uri": "https://localhost:8080/",
          "height": 35
        },
        "id": "X3hmBbt_1mYl",
        "outputId": "0750ee04-b9f4-41e7-f32f-19097ea9a029"
      },
      "execution_count": null,
      "outputs": [
        {
          "output_type": "execute_result",
          "data": {
            "text/plain": [
              "'eggfruit'"
            ],
            "application/vnd.google.colaboratory.intrinsic+json": {
              "type": "string"
            }
          },
          "metadata": {},
          "execution_count": 15
        }
      ]
    },
    {
      "cell_type": "code",
      "source": [
        "mixedList"
      ],
      "metadata": {
        "colab": {
          "base_uri": "https://localhost:8080/"
        },
        "id": "MrBtDkad1xo0",
        "outputId": "66d84595-d962-49dd-8b9a-3dbfd5a61d86"
      },
      "execution_count": null,
      "outputs": [
        {
          "output_type": "execute_result",
          "data": {
            "text/plain": [
              "[11, 12, 13, 14, 15, 16, 17, 18, 19, 'apple', 'banana', 'cherry', 'date']"
            ]
          },
          "metadata": {},
          "execution_count": 16
        }
      ]
    },
    {
      "cell_type": "markdown",
      "source": [
        "## Index Slicing"
      ],
      "metadata": {
        "id": "Mka3b0CN3ZqY"
      }
    },
    {
      "cell_type": "code",
      "source": [
        "mixedList[10: 14]"
      ],
      "metadata": {
        "colab": {
          "base_uri": "https://localhost:8080/"
        },
        "id": "uuvbcP_110uj",
        "outputId": "2ce15090-0b14-4554-ac00-9b1654f7a51e"
      },
      "execution_count": null,
      "outputs": [
        {
          "output_type": "execute_result",
          "data": {
            "text/plain": [
              "['banana', 'cherry', 'date']"
            ]
          },
          "metadata": {},
          "execution_count": 19
        }
      ]
    },
    {
      "cell_type": "code",
      "source": [],
      "metadata": {
        "id": "u3vljRx01-k9"
      },
      "execution_count": null,
      "outputs": []
    }
  ]
}
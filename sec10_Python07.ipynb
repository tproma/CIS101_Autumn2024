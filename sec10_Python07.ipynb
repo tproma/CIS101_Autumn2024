{
  "nbformat": 4,
  "nbformat_minor": 0,
  "metadata": {
    "colab": {
      "provenance": []
    },
    "kernelspec": {
      "name": "python3",
      "display_name": "Python 3"
    },
    "language_info": {
      "name": "python"
    }
  },
  "cells": [
    {
      "cell_type": "markdown",
      "source": [
        "# List"
      ],
      "metadata": {
        "id": "2_-DUnox1XTh"
      }
    },
    {
      "cell_type": "code",
      "execution_count": null,
      "metadata": {
        "colab": {
          "base_uri": "https://localhost:8080/"
        },
        "id": "vUqdGPxVjK3I",
        "outputId": "961c6117-24e5-4a7a-e289-72f34eb364d1"
      },
      "outputs": [
        {
          "output_type": "execute_result",
          "data": {
            "text/plain": [
              "[1, 2, 3]"
            ]
          },
          "metadata": {},
          "execution_count": 3
        }
      ],
      "source": [
        "A = [1,2,3]\n",
        "A"
      ]
    },
    {
      "cell_type": "code",
      "source": [
        "B = [\"Shafin\", \"Rubaya\"]\n",
        "B"
      ],
      "metadata": {
        "colab": {
          "base_uri": "https://localhost:8080/"
        },
        "id": "A9Zxfe5GjRkA",
        "outputId": "c14739cc-4a0e-4b2d-9e64-59760e83081c"
      },
      "execution_count": null,
      "outputs": [
        {
          "output_type": "execute_result",
          "data": {
            "text/plain": [
              "['Shafin', 'Rubaya']"
            ]
          },
          "metadata": {},
          "execution_count": 4
        }
      ]
    },
    {
      "cell_type": "code",
      "source": [
        "C = [1, \"Shafin\"]\n",
        "C"
      ],
      "metadata": {
        "colab": {
          "base_uri": "https://localhost:8080/"
        },
        "id": "RYAGA5uvjW5f",
        "outputId": "f66617a6-8007-43df-c32d-0da754a67872"
      },
      "execution_count": null,
      "outputs": [
        {
          "output_type": "execute_result",
          "data": {
            "text/plain": [
              "[1, 'Shafin']"
            ]
          },
          "metadata": {},
          "execution_count": 6
        }
      ]
    },
    {
      "cell_type": "code",
      "source": [
        "len(C)"
      ],
      "metadata": {
        "colab": {
          "base_uri": "https://localhost:8080/"
        },
        "id": "pAAHFi4ejdX_",
        "outputId": "e4622402-87ec-4ef1-d798-b491e17b04ec"
      },
      "execution_count": null,
      "outputs": [
        {
          "output_type": "execute_result",
          "data": {
            "text/plain": [
              "2"
            ]
          },
          "metadata": {},
          "execution_count": 7
        }
      ]
    },
    {
      "cell_type": "code",
      "source": [
        "listOfDiff = ['Bangladesh', 170, 'India', 'Pakistan', 20.75]"
      ],
      "metadata": {
        "id": "t4FMh9MFjnjv"
      },
      "execution_count": null,
      "outputs": []
    },
    {
      "cell_type": "code",
      "source": [
        "listOfDiff[2]"
      ],
      "metadata": {
        "colab": {
          "base_uri": "https://localhost:8080/",
          "height": 36
        },
        "id": "fp6c8BfnkdgQ",
        "outputId": "26e596b9-4315-43ca-8676-06258c65e838"
      },
      "execution_count": null,
      "outputs": [
        {
          "output_type": "execute_result",
          "data": {
            "text/plain": [
              "'India'"
            ],
            "application/vnd.google.colaboratory.intrinsic+json": {
              "type": "string"
            }
          },
          "metadata": {},
          "execution_count": 3
        }
      ]
    },
    {
      "cell_type": "code",
      "source": [
        "list(range(0, 10, 2))"
      ],
      "metadata": {
        "colab": {
          "base_uri": "https://localhost:8080/"
        },
        "id": "fcyrwUcOj4-Q",
        "outputId": "a18b034e-de03-453d-dc22-28424fecfadb"
      },
      "execution_count": null,
      "outputs": [
        {
          "output_type": "execute_result",
          "data": {
            "text/plain": [
              "[0, 2, 4, 6, 8]"
            ]
          },
          "metadata": {},
          "execution_count": 4
        }
      ]
    },
    {
      "cell_type": "markdown",
      "source": [
        "### Append"
      ],
      "metadata": {
        "id": "DvnN2wO_1exj"
      }
    },
    {
      "cell_type": "code",
      "source": [
        "listOfDiff.append(\"gjhsafdhj\")"
      ],
      "metadata": {
        "id": "RP5_332AkH1P"
      },
      "execution_count": null,
      "outputs": []
    },
    {
      "cell_type": "code",
      "source": [
        "listOfDiff"
      ],
      "metadata": {
        "colab": {
          "base_uri": "https://localhost:8080/"
        },
        "id": "_VPrpOA801Y1",
        "outputId": "17c23426-3749-4b42-a634-8365b0c4d8cf"
      },
      "execution_count": null,
      "outputs": [
        {
          "output_type": "execute_result",
          "data": {
            "text/plain": [
              "['Bangladesh', 170, 'India', 'Pakistan', 20.75, 'gjhsafdhj']"
            ]
          },
          "metadata": {},
          "execution_count": 6
        }
      ]
    },
    {
      "cell_type": "markdown",
      "source": [
        "### Insert"
      ],
      "metadata": {
        "id": "HEOY5xf21h7Q"
      }
    },
    {
      "cell_type": "code",
      "source": [
        "listOfDiff.insert(1,\"Chaina\")"
      ],
      "metadata": {
        "id": "T4vQJBsT0-fL"
      },
      "execution_count": null,
      "outputs": []
    },
    {
      "cell_type": "code",
      "source": [
        "listOfDiff"
      ],
      "metadata": {
        "colab": {
          "base_uri": "https://localhost:8080/"
        },
        "id": "iOb6NILl1BBv",
        "outputId": "ef0a3d38-35e5-4a71-c220-9746c61985d5"
      },
      "execution_count": null,
      "outputs": [
        {
          "output_type": "execute_result",
          "data": {
            "text/plain": [
              "['Bangladesh', 'Chaina', 170, 'India', 'Pakistan', 20.75, 'gjhsafdhj']"
            ]
          },
          "metadata": {},
          "execution_count": 8
        }
      ]
    },
    {
      "cell_type": "markdown",
      "source": [
        "### Extend"
      ],
      "metadata": {
        "id": "_OW-7V8O1kkp"
      }
    },
    {
      "cell_type": "code",
      "source": [
        "listOfDiff.extend([777, 420, 840])"
      ],
      "metadata": {
        "id": "fzvxHoOG1Cp5"
      },
      "execution_count": null,
      "outputs": []
    },
    {
      "cell_type": "code",
      "source": [
        "listOfDiff"
      ],
      "metadata": {
        "colab": {
          "base_uri": "https://localhost:8080/"
        },
        "id": "B90cdSsn1Ej_",
        "outputId": "244594c3-b0ae-4df1-fd59-ecc506b63c3f"
      },
      "execution_count": null,
      "outputs": [
        {
          "output_type": "execute_result",
          "data": {
            "text/plain": [
              "['Bangladesh',\n",
              " 'Chaina',\n",
              " 170,\n",
              " 'India',\n",
              " 'Pakistan',\n",
              " 20.75,\n",
              " 'gjhsafdhj',\n",
              " 777,\n",
              " 420,\n",
              " 840]"
            ]
          },
          "metadata": {},
          "execution_count": 10
        }
      ]
    },
    {
      "cell_type": "markdown",
      "source": [
        "### Mixed List"
      ],
      "metadata": {
        "id": "5vi13Cxl1nUO"
      }
    },
    {
      "cell_type": "code",
      "source": [
        "numbers = list(range(11, 20))\n",
        "fruits = ['apple', 'banana', 'cherry', 'date', 'eggfruit']\n",
        "\n",
        "mixedList = numbers + fruits\n",
        "print('mixed list: ', mixedList)"
      ],
      "metadata": {
        "colab": {
          "base_uri": "https://localhost:8080/"
        },
        "id": "7ed2SB-c1GK3",
        "outputId": "41df09f1-cba4-4f5f-b44d-45a7b88f0c13"
      },
      "execution_count": null,
      "outputs": [
        {
          "output_type": "stream",
          "name": "stdout",
          "text": [
            "mixed list:  [11, 12, 13, 14, 15, 16, 17, 18, 19, 'apple', 'banana', 'cherry', 'date', 'eggfruit']\n"
          ]
        }
      ]
    },
    {
      "cell_type": "markdown",
      "source": [
        "### POp"
      ],
      "metadata": {
        "id": "EE6cdJTg1pnB"
      }
    },
    {
      "cell_type": "code",
      "source": [
        "mixedList.pop()"
      ],
      "metadata": {
        "colab": {
          "base_uri": "https://localhost:8080/",
          "height": 36
        },
        "id": "ffOmc9W81InS",
        "outputId": "932f166d-6052-4ad7-8484-9c4615966b7f"
      },
      "execution_count": null,
      "outputs": [
        {
          "output_type": "execute_result",
          "data": {
            "text/plain": [
              "'eggfruit'"
            ],
            "application/vnd.google.colaboratory.intrinsic+json": {
              "type": "string"
            }
          },
          "metadata": {},
          "execution_count": 12
        }
      ]
    },
    {
      "cell_type": "code",
      "source": [
        "mixedList"
      ],
      "metadata": {
        "colab": {
          "base_uri": "https://localhost:8080/"
        },
        "id": "VTBSpCiR1Mg7",
        "outputId": "5508fa8b-63aa-4b17-adb9-f8d710c6c598"
      },
      "execution_count": null,
      "outputs": [
        {
          "output_type": "execute_result",
          "data": {
            "text/plain": [
              "[11, 12, 13, 14, 15, 16, 17, 18, 19, 'apple', 'banana', 'cherry', 'date']"
            ]
          },
          "metadata": {},
          "execution_count": 13
        }
      ]
    },
    {
      "cell_type": "markdown",
      "source": [
        "## Index slicing"
      ],
      "metadata": {
        "id": "NJH-sxw31sgV"
      }
    },
    {
      "cell_type": "code",
      "source": [
        "mixedList[10: 14]"
      ],
      "metadata": {
        "colab": {
          "base_uri": "https://localhost:8080/"
        },
        "id": "hrv8_zSl1OID",
        "outputId": "bc9502ba-229a-4fa2-c529-77f351981fac"
      },
      "execution_count": null,
      "outputs": [
        {
          "output_type": "execute_result",
          "data": {
            "text/plain": [
              "['banana', 'cherry', 'date']"
            ]
          },
          "metadata": {},
          "execution_count": 14
        }
      ]
    },
    {
      "cell_type": "code",
      "source": [
        "list(\"hello\")"
      ],
      "metadata": {
        "id": "ecX6_8OD1P-5",
        "outputId": "9cf28692-fc30-4656-b5f4-cf352331b55a",
        "colab": {
          "base_uri": "https://localhost:8080/"
        }
      },
      "execution_count": null,
      "outputs": [
        {
          "output_type": "execute_result",
          "data": {
            "text/plain": [
              "['h', 'e', 'l', 'l', 'o']"
            ]
          },
          "metadata": {},
          "execution_count": 15
        }
      ]
    },
    {
      "cell_type": "code",
      "source": [],
      "metadata": {
        "id": "TksrSO3qFhoq"
      },
      "execution_count": null,
      "outputs": []
    }
  ]
}